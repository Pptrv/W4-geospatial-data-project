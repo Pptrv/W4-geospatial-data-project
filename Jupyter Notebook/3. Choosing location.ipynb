{
 "cells": [
  {
   "cell_type": "code",
   "execution_count": 4,
   "metadata": {},
   "outputs": [],
   "source": [
    "from statistics import mode\n",
    "from pymongo import MongoClient\n",
    "import pandas as pd\n",
    "import numpy as np\n",
    "import seaborn as sns"
   ]
  },
  {
   "cell_type": "markdown",
   "metadata": {},
   "source": [
    "# Lets decide the most suitable location for our company:"
   ]
  },
  {
   "cell_type": "markdown",
   "metadata": {},
   "source": [
    "In this paper we will analisis 4 different preferences to decide which is the most suitable place to locate our company. \n",
    "At the end of the paper we will have an exact location for our office."
   ]
  },
  {
   "cell_type": "markdown",
   "metadata": {},
   "source": [
    "### 1rst preference: Choossing the city. "
   ]
  },
  {
   "cell_type": "markdown",
   "metadata": {},
   "source": [
    "The CEO has decided that the office should be located in one of this cities:\n",
    "    \n",
    "    - Madrid \n",
    "    - New York \n",
    "    - Luxemburg\n",
    "    - London\n",
    "    - Munich"
   ]
  },
  {
   "cell_type": "markdown",
   "metadata": {},
   "source": [
    "The most important preference, that adds more value to my co-workers and the company is:\n",
    "\n",
    "    1. A place where other startups have been founded since and during the 2009 economic crisis.\n",
    "    \n",
    "We are at the start of a new economic crisis due to COVID pandemic, and we think choosing a location where other companies have proven to succed during another recesion is the best place to start. \n",
    "\n",
    "From the dataframe df_companies we select the \"city\" inside the column \"offices\" that appears the most out of the 5 cities we have been asigned at the begging.\n",
    "\n",
    "This first decision will determine the city we move to. "
   ]
  },
  {
   "cell_type": "code",
   "execution_count": null,
   "metadata": {},
   "outputs": [],
   "source": [
    "meter la function aqui. llamando desde la function que tenemos en visual studio. "
   ]
  },
  {
   "cell_type": "markdown",
   "metadata": {},
   "source": [
    "The selected city is: "
   ]
  },
  {
   "cell_type": "markdown",
   "metadata": {},
   "source": [
    "### 2nd Preference: "
   ]
  },
  {
   "cell_type": "markdown",
   "metadata": {},
   "source": [
    "The second most important preference to consider is to have a nearby hairdresser for our company dog Pepe. "
   ]
  },
  {
   "cell_type": "markdown",
   "metadata": {},
   "source": [
    "### 3rd Preference: "
   ]
  },
  {
   "cell_type": "markdown",
   "metadata": {},
   "source": [
    "Lastly, most of the director want a starbucks nearby. "
   ]
  },
  {
   "cell_type": "code",
   "execution_count": null,
   "metadata": {},
   "outputs": [],
   "source": []
  }
 ],
 "metadata": {
  "kernelspec": {
   "display_name": "Python 3",
   "language": "python",
   "name": "python3"
  },
  "language_info": {
   "codemirror_mode": {
    "name": "ipython",
    "version": 3
   },
   "file_extension": ".py",
   "mimetype": "text/x-python",
   "name": "python",
   "nbconvert_exporter": "python",
   "pygments_lexer": "ipython3",
   "version": "3.9.0"
  }
 },
 "nbformat": 4,
 "nbformat_minor": 4
}
